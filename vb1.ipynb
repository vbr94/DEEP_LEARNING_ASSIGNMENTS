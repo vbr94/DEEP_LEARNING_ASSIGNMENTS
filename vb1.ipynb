{
 "cells": [
  {
   "cell_type": "markdown",
   "metadata": {},
   "source": [
    "# B1: Federated Averaging.\n",
    "\n",
    "### Name: Vinayak Rai\n"
   ]
  },
  {
   "cell_type": "markdown",
   "metadata": {},
   "source": [
    "## 0. You will do the following:\n",
    "\n",
    "1. Read the lecture note: [click here](https://github.com/wangshusen/DeepLearning/blob/master/LectureNotes/Logistic/paper/logistic.pdf)\n",
    "\n",
    "2. Read, complete, and run my code.\n",
    "\n",
    "3. **Implement mini-batch SGD** and evaluate the performance.\n",
    "\n",
    "4. Convert the .IPYNB file to .HTML file.\n",
    "\n",
    "    * The HTML file must contain **the code** and **the output after execution**.\n",
    "    \n",
    "    * Missing **the output after execution** will not be graded.\n",
    "    \n",
    "5. Upload this .HTML file to your Google Drive, Dropbox, or your Github repo.  (If you submit the file to Google Drive or Dropbox, you must make the file \"open-access\". The delay caused by \"deny of access\" may result in late penalty.)\n",
    "\n",
    "6. Submit the link to this .HTML file to Canvas.\n",
    "\n",
    "    * Example: https://github.com/wangshusen/CS583-2020S/blob/master/homework/HM2/HM2.html\n",
    "\n",
    "\n",
    "## Grading criteria:\n",
    "\n",
    "1. When computing the ```gradient``` and ```objective function value``` using a batch of samples, use **matrix-vector multiplication** rather than a FOR LOOP of **vector-vector multiplications**.\n",
    "\n",
    "2. Plot ```objective function value``` against ```epochs```. In the plot, compare GD, SGD, and MB-SGD (with $b=8$ and $b=64$). The plot must look reasonable."
   ]
  },
  {
   "cell_type": "code",
   "execution_count": null,
   "metadata": {},
   "outputs": [],
   "source": []
  },
  {
   "cell_type": "markdown",
   "metadata": {},
   "source": [
    "# 1. Data processing\n",
    "\n",
    "- Download the Diabete dataset from https://www.csie.ntu.edu.tw/~cjlin/libsvmtools/datasets/binary/diabetes\n",
    "- Load the data using sklearn.\n",
    "- Preprocess the data."
   ]
  },
  {
   "cell_type": "markdown",
   "metadata": {},
   "source": [
    "## 1.1. Load the data"
   ]
  },
  {
   "cell_type": "code",
   "execution_count": 1,
   "metadata": {},
   "outputs": [
    {
     "name": "stdout",
     "output_type": "stream",
     "text": [
      "Shape of x: (768, 8)\n",
      "Shape of y: (768,)\n"
     ]
    }
   ],
   "source": [
    "from sklearn import datasets\n",
    "import numpy\n",
    "\n",
    "x_sparse, y = datasets.load_svmlight_file('diabetes')\n",
    "x = x_sparse.todense()\n",
    "\n",
    "print('Shape of x: ' + str(x.shape))\n",
    "print('Shape of y: ' + str(y.shape))"
   ]
  },
  {
   "cell_type": "markdown",
   "metadata": {},
   "source": [
    "## 1.2. Partition to training and test sets"
   ]
  },
  {
   "cell_type": "code",
   "execution_count": 2,
   "metadata": {},
   "outputs": [
    {
     "name": "stdout",
     "output_type": "stream",
     "text": [
      "Shape of x_train: (640, 8)\n",
      "Shape of x_test: (128, 8)\n",
      "Shape of y_train: (640, 1)\n",
      "Shape of y_test: (128, 1)\n"
     ]
    }
   ],
   "source": [
    "# partition the data to training and test sets\n",
    "n = x.shape[0]\n",
    "n_train = 640\n",
    "n_test = n - n_train\n",
    "\n",
    "rand_indices = numpy.random.permutation(n)\n",
    "train_indices = rand_indices[0:n_train]\n",
    "test_indices = rand_indices[n_train:n]\n",
    "\n",
    "x_train = x[train_indices, :]\n",
    "x_test = x[test_indices, :]\n",
    "y_train = y[train_indices].reshape(n_train, 1)\n",
    "y_test = y[test_indices].reshape(n_test, 1)\n",
    "\n",
    "print('Shape of x_train: ' + str(x_train.shape))\n",
    "print('Shape of x_test: ' + str(x_test.shape))\n",
    "print('Shape of y_train: ' + str(y_train.shape))\n",
    "print('Shape of y_test: ' + str(y_test.shape))"
   ]
  },
  {
   "cell_type": "markdown",
   "metadata": {},
   "source": [
    "## 1.3. Feature scaling"
   ]
  },
  {
   "cell_type": "markdown",
   "metadata": {},
   "source": [
    "Use the standardization to trainsform both training and test features"
   ]
  },
  {
   "cell_type": "code",
   "execution_count": 3,
   "metadata": {},
   "outputs": [
    {
     "name": "stdout",
     "output_type": "stream",
     "text": [
      "test mean = \n",
      "[[-0.07187787  0.06006189 -0.09102497 -0.02397864  0.06039257 -0.0245659\n",
      "   0.15831709  0.07897736]]\n",
      "test std = \n",
      "[[0.91471416 0.97494103 1.13058742 1.01560775 1.10314909 1.05593675\n",
      "  1.34113806 1.04781731]]\n"
     ]
    }
   ],
   "source": [
    "# Standardization\n",
    "import numpy\n",
    "\n",
    "# calculate mu and sig using the training set\n",
    "d = x_train.shape[1]\n",
    "mu = numpy.mean(x_train, axis=0).reshape(1, d)\n",
    "sig = numpy.std(x_train, axis=0).reshape(1, d)\n",
    "\n",
    "# transform the training features\n",
    "x_train = (x_train - mu) / (sig + 1E-6)\n",
    "\n",
    "# transform the test features\n",
    "x_test = (x_test - mu) / (sig + 1E-6)\n",
    "\n",
    "print('test mean = ')\n",
    "print(numpy.mean(x_test, axis=0))\n",
    "\n",
    "print('test std = ')\n",
    "print(numpy.std(x_test, axis=0))"
   ]
  },
  {
   "cell_type": "markdown",
   "metadata": {},
   "source": [
    "## 1.4. Add a dimension of all ones"
   ]
  },
  {
   "cell_type": "code",
   "execution_count": 4,
   "metadata": {},
   "outputs": [
    {
     "name": "stdout",
     "output_type": "stream",
     "text": [
      "Shape of x_train: (640, 9)\n",
      "Shape of x_test: (128, 9)\n"
     ]
    }
   ],
   "source": [
    "n_train, d = x_train.shape\n",
    "x_train = numpy.concatenate((x_train, numpy.ones((n_train, 1))), axis=1)\n",
    "\n",
    "n_test, d = x_test.shape\n",
    "x_test = numpy.concatenate((x_test, numpy.ones((n_test, 1))), axis=1)\n",
    "\n",
    "print('Shape of x_train: ' + str(x_train.shape))\n",
    "print('Shape of x_test: ' + str(x_test.shape))"
   ]
  },
  {
   "cell_type": "markdown",
   "metadata": {},
   "source": [
    "# 2. Logistic regression model\n",
    "\n",
    "The objective function is $Q (w; X, y) = \\frac{1}{n} \\sum_{i=1}^n \\log \\Big( 1 + \\exp \\big( - y_i x_i^T w \\big) \\Big) + \\frac{\\lambda}{2} \\| w \\|_2^2 $."
   ]
  },
  {
   "cell_type": "code",
   "execution_count": 5,
   "metadata": {},
   "outputs": [],
   "source": [
    "# Calculate the objective function value\n",
    "# Inputs:\n",
    "#     w: d-by-1 matrix\n",
    "#     x: n-by-d matrix\n",
    "#     y: n-by-1 matrix\n",
    "#     lam: scalar, the regularization parameter\n",
    "# Return:\n",
    "#     objective function value (scalar)\n",
    "def objective(w, x, y, lam):\n",
    "    n, d = x.shape\n",
    "    yx = numpy.multiply(y, x) # n-by-d matrix\n",
    "    yxw = numpy.dot(yx, w) # n-by-1 matrix\n",
    "    vec1 = numpy.exp(-yxw) # n-by-1 matrix\n",
    "    vec2 = numpy.log(1 + vec1) # n-by-1 matrix\n",
    "    loss = numpy.mean(vec2) # scalar\n",
    "    reg = lam / 2 * numpy.sum(w * w) # scalar\n",
    "    return loss + reg\n",
    "    "
   ]
  },
  {
   "cell_type": "code",
   "execution_count": 6,
   "metadata": {},
   "outputs": [
    {
     "name": "stdout",
     "output_type": "stream",
     "text": [
      "Initial objective function value = 0.6931471805599453\n"
     ]
    }
   ],
   "source": [
    "# initialize w\n",
    "d = x_train.shape[1]\n",
    "w = numpy.zeros((d, 1))\n",
    "\n",
    "# evaluate the objective function value at w\n",
    "lam = 1E-6\n",
    "objval0 = objective(w, x_train, y_train, lam)\n",
    "print('Initial objective function value = ' + str(objval0))"
   ]
  },
  {
   "cell_type": "markdown",
   "metadata": {},
   "source": [
    "# 3. Numerical optimization"
   ]
  },
  {
   "cell_type": "markdown",
   "metadata": {},
   "source": [
    "## 3.1. Gradient descent\n"
   ]
  },
  {
   "cell_type": "markdown",
   "metadata": {},
   "source": [
    "The gradient at $w$ is $g = - \\frac{1}{n} \\sum_{i=1}^n \\frac{y_i x_i }{1 + \\exp ( y_i x_i^T w)} + \\lambda w$"
   ]
  },
  {
   "cell_type": "code",
   "execution_count": 7,
   "metadata": {},
   "outputs": [],
   "source": [
    "# Calculate the gradient\n",
    "# Inputs:\n",
    "#     w: d-by-1 matrix\n",
    "#     x: n-by-d matrix\n",
    "#     y: n-by-1 matrix\n",
    "#     lam: scalar, the regularization parameter\n",
    "# Return:\n",
    "#     g: g: d-by-1 matrix, full gradient\n",
    "def gradient(w, x, y, lam):\n",
    "    n, d = x.shape\n",
    "    yx = numpy.multiply(y, x) # n-by-d matrix\n",
    "    yxw = numpy.dot(yx, w) # n-by-1 matrix\n",
    "    vec1 = numpy.exp(yxw) # n-by-1 matrix\n",
    "    vec2 = numpy.divide(yx, 1+vec1) # n-by-d matrix\n",
    "    vec3 = -numpy.mean(vec2, axis=0).reshape(d, 1) # d-by-1 matrix\n",
    "    g = vec3 + lam * w\n",
    "    return g"
   ]
  },
  {
   "cell_type": "code",
   "execution_count": 8,
   "metadata": {},
   "outputs": [],
   "source": [
    "# Gradient descent for solving logistic regression\n",
    "# Inputs:\n",
    "#     x: n-by-d matrix\n",
    "#     y: n-by-1 matrix\n",
    "#     lam: scalar, the regularization parameter\n",
    "#     stepsize: scalar\n",
    "#     max_iter: integer, the maximal iterations\n",
    "#     w: d-by-1 matrix, initialization of w\n",
    "# Return:\n",
    "#     w: d-by-1 matrix, the solution\n",
    "#     objvals: a record of each iteration's objective value\n",
    "def grad_descent(x, y, lam, stepsize, max_iter=100, w=None):\n",
    "    n, d = x.shape\n",
    "    objvals = numpy.zeros(max_iter) # store the objective values\n",
    "    if w is None:\n",
    "        w = numpy.zeros((d, 1)) # zero initialization\n",
    "    \n",
    "    for t in range(max_iter):\n",
    "        objval = objective(w, x, y, lam)\n",
    "        objvals[t] = objval\n",
    "        print('Objective value at t=' + str(t) + ' is ' + str(objval))\n",
    "        g = gradient(w, x, y, lam)\n",
    "        w -= stepsize * g\n",
    "    \n",
    "    return w, objvals"
   ]
  },
  {
   "cell_type": "markdown",
   "metadata": {},
   "source": [
    "Run gradient descent."
   ]
  },
  {
   "cell_type": "code",
   "execution_count": 9,
   "metadata": {
    "scrolled": true
   },
   "outputs": [
    {
     "name": "stdout",
     "output_type": "stream",
     "text": [
      "Objective value at t=0 is 0.6931471805599453\n",
      "Objective value at t=1 is 0.5964055161954884\n",
      "Objective value at t=2 is 0.5559403830038817\n",
      "Objective value at t=3 is 0.5340560479834882\n",
      "Objective value at t=4 is 0.5204153114045377\n",
      "Objective value at t=5 is 0.5112094807629206\n",
      "Objective value at t=6 is 0.5046826158970392\n",
      "Objective value at t=7 is 0.4998974924128015\n",
      "Objective value at t=8 is 0.49630241892214155\n",
      "Objective value at t=9 is 0.4935499471095543\n",
      "Objective value at t=10 is 0.49141039794175606\n",
      "Objective value at t=11 is 0.48972633792808834\n",
      "Objective value at t=12 is 0.48838675578324564\n",
      "Objective value at t=13 is 0.4873115572494209\n",
      "Objective value at t=14 is 0.4864418368933643\n",
      "Objective value at t=15 is 0.4857335583114122\n",
      "Objective value at t=16 is 0.4851533305728653\n",
      "Objective value at t=17 is 0.48467551783953594\n",
      "Objective value at t=18 is 0.4842802206660648\n",
      "Objective value at t=19 is 0.4839518407483266\n",
      "Objective value at t=20 is 0.4836780441964264\n",
      "Objective value at t=21 is 0.4834490019359235\n",
      "Objective value at t=22 is 0.483256825934966\n",
      "Objective value at t=23 is 0.4830951458322849\n",
      "Objective value at t=24 is 0.4829587875731833\n",
      "Objective value at t=25 is 0.482843527068685\n",
      "Objective value at t=26 is 0.482745899655647\n",
      "Objective value at t=27 is 0.48266305149463806\n",
      "Objective value at t=28 is 0.4825926227916482\n",
      "Objective value at t=29 is 0.48253265538547807\n",
      "Objective value at t=30 is 0.4824815191457269\n",
      "Objective value at t=31 is 0.48243785300488284\n",
      "Objective value at t=32 is 0.4824005174568701\n",
      "Objective value at t=33 is 0.4823685560997915\n",
      "Objective value at t=34 is 0.4823411643563351\n",
      "Objective value at t=35 is 0.4823176639231641\n",
      "Objective value at t=36 is 0.4822974818173411\n",
      "Objective value at t=37 is 0.48228013312972673\n",
      "Objective value at t=38 is 0.4822652067813636\n",
      "Objective value at t=39 is 0.4822523537229395\n",
      "Objective value at t=40 is 0.48224127712972636\n",
      "Objective value at t=41 is 0.482231724232421\n",
      "Objective value at t=42 is 0.4822234794937351\n",
      "Objective value at t=43 is 0.48221635889560305\n",
      "Objective value at t=44 is 0.48221020514570184\n",
      "Objective value at t=45 is 0.4822048836470669\n",
      "Objective value at t=46 is 0.4822002791027876\n",
      "Objective value at t=47 is 0.48219629265053887\n",
      "Objective value at t=48 is 0.4821928394401583\n",
      "Objective value at t=49 is 0.48218984658249664\n",
      "Objective value at t=50 is 0.4821872514100217\n",
      "Objective value at t=51 is 0.4821849999996968\n",
      "Objective value at t=52 is 0.48218304591690203\n",
      "Objective value at t=53 is 0.48218134914596567\n",
      "Objective value at t=54 is 0.48217987517848115\n",
      "Objective value at t=55 is 0.4821785942352474\n",
      "Objective value at t=56 is 0.48217748060152194\n",
      "Objective value at t=57 is 0.48217651205850004\n",
      "Objective value at t=58 is 0.48217566939661205\n",
      "Objective value at t=59 is 0.48217493599847067\n",
      "Objective value at t=60 is 0.48217429748118334\n",
      "Objective value at t=61 is 0.48217374138931324\n",
      "Objective value at t=62 is 0.48217325693110313\n",
      "Objective value at t=63 is 0.4821728347516869\n",
      "Objective value at t=64 is 0.48217246673795583\n",
      "Objective value at t=65 is 0.4821721458505381\n",
      "Objective value at t=66 is 0.48217186597902684\n",
      "Objective value at t=67 is 0.482171621817153\n",
      "Objective value at t=68 is 0.4821714087550886\n",
      "Objective value at t=69 is 0.482171222786471\n",
      "Objective value at t=70 is 0.4821710604280883\n",
      "Objective value at t=71 is 0.4821709186504619\n",
      "Objective value at t=72 is 0.48217079481781433\n",
      "Objective value at t=73 is 0.4821706866361261\n",
      "Objective value at t=74 is 0.48217059210816743\n",
      "Objective value at t=75 is 0.4821705094945507\n",
      "Objective value at t=76 is 0.4821704372799796\n",
      "Objective value at t=77 is 0.4821703741439884\n",
      "Objective value at t=78 is 0.4821703189355631\n",
      "Objective value at t=79 is 0.48217027065112034\n",
      "Objective value at t=80 is 0.4821702284153893\n",
      "Objective value at t=81 is 0.48217019146481155\n",
      "Objective value at t=82 is 0.4821701591331162\n",
      "Objective value at t=83 is 0.48217013083878574\n",
      "Objective value at t=84 is 0.48217010607415667\n",
      "Objective value at t=85 is 0.4821700843959409\n",
      "Objective value at t=86 is 0.48217006541697915\n",
      "Objective value at t=87 is 0.482170048799063\n",
      "Objective value at t=88 is 0.48217003424668614\n",
      "Objective value at t=89 is 0.48217002150160293\n",
      "Objective value at t=90 is 0.4821700103380869\n",
      "Objective value at t=91 is 0.48217000055880116\n",
      "Objective value at t=92 is 0.48216999199119637\n",
      "Objective value at t=93 is 0.48216998448437276\n",
      "Objective value at t=94 is 0.4821699779063411\n",
      "Objective value at t=95 is 0.48216997214163576\n",
      "Objective value at t=96 is 0.4821699670892294\n",
      "Objective value at t=97 is 0.4821699626607158\n",
      "Objective value at t=98 is 0.48216995877872143\n",
      "Objective value at t=99 is 0.4821699553755196\n"
     ]
    }
   ],
   "source": [
    "lam = 1E-6\n",
    "stepsize = 1.0\n",
    "w, objvals_gd1 = grad_descent(x_train, y_train, lam, stepsize)"
   ]
  },
  {
   "cell_type": "markdown",
   "metadata": {},
   "source": [
    "## 3.2. Stochastic gradient descent (SGD)\n",
    "\n",
    "Define $Q_i (w) = \\log \\Big( 1 + \\exp \\big( - y_i x_i^T w \\big) \\Big) + \\frac{\\lambda}{2} \\| w \\|_2^2 $.\n",
    "\n",
    "The stochastic gradient at $w$ is $g_i = \\frac{\\partial Q_i }{ \\partial w} = -\\frac{y_i x_i }{1 + \\exp ( y_i x_i^T w)} + \\lambda w$."
   ]
  },
  {
   "cell_type": "code",
   "execution_count": 10,
   "metadata": {},
   "outputs": [],
   "source": [
    "# Calculate the objective Q_i and the gradient of Q_i\n",
    "# Inputs:\n",
    "#     w: d-by-1 matrix\n",
    "#     xi: 1-by-d matrix\n",
    "#     yi: scalar\n",
    "#     lam: scalar, the regularization parameter\n",
    "# Return:\n",
    "#     obj: scalar, the objective Q_i\n",
    "#     g: d-by-1 matrix, gradient of Q_i\n",
    "def stochastic_objective_gradient(w, xi, yi, lam):\n",
    "    d = xi.shape[0]\n",
    "    yx = yi * xi # 1-by-d matrix\n",
    "    yxw = float(numpy.dot(yx, w)) # scalar\n",
    "    \n",
    "    # calculate objective function Q_i\n",
    "    loss = numpy.log(1 + numpy.exp(-yxw)) # scalar\n",
    "    reg = lam / 2 * numpy.sum(w * w) # scalar\n",
    "    obj = loss + reg\n",
    "    \n",
    "    # calculate stochastic gradient\n",
    "    g_loss = -yx.T / (1 + numpy.exp(yxw)) # d-by-1 matrix\n",
    "    g = g_loss + lam * w # d-by-1 matrix\n",
    "    \n",
    "    return obj, g"
   ]
  },
  {
   "cell_type": "code",
   "execution_count": 11,
   "metadata": {},
   "outputs": [],
   "source": [
    "# SGD for solving logistic regression\n",
    "# Inputs:\n",
    "#     x: n-by-d matrix\n",
    "#     y: n-by-1 matrix\n",
    "#     lam: scalar, the regularization parameter\n",
    "#     stepsize: scalar\n",
    "#     max_epoch: integer, the maximal epochs\n",
    "#     w: d-by-1 matrix, initialization of w\n",
    "# Return:\n",
    "#     w: the solution\n",
    "#     objvals: record of each iteration's objective value\n",
    "def sgd(x, y, lam, stepsize, max_epoch=100, w=None):\n",
    "    n, d = x.shape\n",
    "    objvals = numpy.zeros(max_epoch) # store the objective values\n",
    "    if w is None:\n",
    "        w = numpy.zeros((d, 1)) # zero initialization\n",
    "    \n",
    "    for t in range(max_epoch):\n",
    "        # randomly shuffle the samples\n",
    "        rand_indices = numpy.random.permutation(n)\n",
    "        x_rand = x[rand_indices, :]\n",
    "        y_rand = y[rand_indices, :]\n",
    "        \n",
    "        objval = 0 # accumulate the objective values\n",
    "        for i in range(n):\n",
    "            xi = x_rand[i, :] # 1-by-d matrix\n",
    "            yi = float(y_rand[i, :]) # scalar\n",
    "            obj, g = stochastic_objective_gradient(w, xi, yi, lam)\n",
    "            objval += obj\n",
    "            w -= stepsize * g\n",
    "        \n",
    "        stepsize *= 0.9 # decrease step size\n",
    "        objval /= n\n",
    "        objvals[t] = objval\n",
    "        print('Objective value at epoch t=' + str(t) + ' is ' + str(objval))\n",
    "    \n",
    "    return w, objvals"
   ]
  },
  {
   "cell_type": "markdown",
   "metadata": {},
   "source": [
    "Run SGD."
   ]
  },
  {
   "cell_type": "code",
   "execution_count": 12,
   "metadata": {
    "scrolled": true
   },
   "outputs": [
    {
     "name": "stdout",
     "output_type": "stream",
     "text": [
      "Objective value at epoch t=0 is 0.552207876641306\n",
      "Objective value at epoch t=1 is 0.5270982246099403\n",
      "Objective value at epoch t=2 is 0.5208723623331262\n",
      "Objective value at epoch t=3 is 0.5212041878076763\n",
      "Objective value at epoch t=4 is 0.513292838458776\n",
      "Objective value at epoch t=5 is 0.5101621488857637\n",
      "Objective value at epoch t=6 is 0.5126937147111005\n",
      "Objective value at epoch t=7 is 0.5040896450535614\n",
      "Objective value at epoch t=8 is 0.5068122828751764\n",
      "Objective value at epoch t=9 is 0.5088581963907949\n",
      "Objective value at epoch t=10 is 0.5056937792528515\n",
      "Objective value at epoch t=11 is 0.5030604498048017\n",
      "Objective value at epoch t=12 is 0.4977123565144076\n",
      "Objective value at epoch t=13 is 0.4994299508142313\n",
      "Objective value at epoch t=14 is 0.49629504753107545\n",
      "Objective value at epoch t=15 is 0.49434307833780455\n",
      "Objective value at epoch t=16 is 0.4961412506090531\n",
      "Objective value at epoch t=17 is 0.4912495598633437\n",
      "Objective value at epoch t=18 is 0.49361863128786476\n",
      "Objective value at epoch t=19 is 0.4910857766368915\n",
      "Objective value at epoch t=20 is 0.4905626856876948\n",
      "Objective value at epoch t=21 is 0.48990717293683056\n",
      "Objective value at epoch t=22 is 0.48890718959510016\n",
      "Objective value at epoch t=23 is 0.4889091295181666\n",
      "Objective value at epoch t=24 is 0.4878130283748875\n",
      "Objective value at epoch t=25 is 0.48762264068773264\n",
      "Objective value at epoch t=26 is 0.4867569305867723\n",
      "Objective value at epoch t=27 is 0.48652146305396365\n",
      "Objective value at epoch t=28 is 0.4861376296969806\n",
      "Objective value at epoch t=29 is 0.48564905306823797\n",
      "Objective value at epoch t=30 is 0.4853892882607675\n",
      "Objective value at epoch t=31 is 0.4851277845902553\n",
      "Objective value at epoch t=32 is 0.48480939596771344\n",
      "Objective value at epoch t=33 is 0.4845457541507089\n",
      "Objective value at epoch t=34 is 0.4842988722434275\n",
      "Objective value at epoch t=35 is 0.4840647692967365\n",
      "Objective value at epoch t=36 is 0.48395271571010134\n",
      "Objective value at epoch t=37 is 0.48372963369810823\n",
      "Objective value at epoch t=38 is 0.4836014701543706\n",
      "Objective value at epoch t=39 is 0.48346378873981477\n",
      "Objective value at epoch t=40 is 0.48331412661620854\n",
      "Objective value at epoch t=41 is 0.48321980921052105\n",
      "Objective value at epoch t=42 is 0.48311609010493467\n",
      "Objective value at epoch t=43 is 0.4830207039947643\n",
      "Objective value at epoch t=44 is 0.4829347675440626\n",
      "Objective value at epoch t=45 is 0.48285679978996815\n",
      "Objective value at epoch t=46 is 0.4827867214121316\n",
      "Objective value at epoch t=47 is 0.48273319056723824\n",
      "Objective value at epoch t=48 is 0.48267625445739204\n",
      "Objective value at epoch t=49 is 0.4826230441142217\n",
      "Objective value at epoch t=50 is 0.48258128959132723\n",
      "Objective value at epoch t=51 is 0.4825387160134745\n",
      "Objective value at epoch t=52 is 0.4825028331593244\n",
      "Objective value at epoch t=53 is 0.48246870613505743\n",
      "Objective value at epoch t=54 is 0.4824390371910184\n",
      "Objective value at epoch t=55 is 0.48241192404600514\n",
      "Objective value at epoch t=56 is 0.48238869362257547\n",
      "Objective value at epoch t=57 is 0.48236679355988343\n",
      "Objective value at epoch t=58 is 0.4823472434893074\n",
      "Objective value at epoch t=59 is 0.4823298945068717\n",
      "Objective value at epoch t=60 is 0.4823138329739344\n",
      "Objective value at epoch t=61 is 0.4822996217728962\n",
      "Objective value at epoch t=62 is 0.4822865213641377\n",
      "Objective value at epoch t=63 is 0.48227487976515804\n",
      "Objective value at epoch t=64 is 0.48226431740797926\n",
      "Objective value at epoch t=65 is 0.48225497861285865\n",
      "Objective value at epoch t=66 is 0.4822466225509139\n",
      "Objective value at epoch t=67 is 0.48223896494297575\n",
      "Objective value at epoch t=68 is 0.48223211700683943\n",
      "Objective value at epoch t=69 is 0.48222593484146714\n",
      "Objective value at epoch t=70 is 0.4822203503173764\n",
      "Objective value at epoch t=71 is 0.4822153090379235\n",
      "Objective value at epoch t=72 is 0.48221080551799955\n",
      "Objective value at epoch t=73 is 0.4822066735756178\n",
      "Objective value at epoch t=74 is 0.48220310295584834\n",
      "Objective value at epoch t=75 is 0.48219978833604704\n",
      "Objective value at epoch t=76 is 0.4821968345721534\n",
      "Objective value at epoch t=77 is 0.4821941684973032\n",
      "Objective value at epoch t=78 is 0.48219177032327537\n",
      "Objective value at epoch t=79 is 0.4821896082288295\n",
      "Objective value at epoch t=80 is 0.4821876647161033\n",
      "Objective value at epoch t=81 is 0.4821859091351214\n",
      "Objective value at epoch t=82 is 0.4821843400853087\n",
      "Objective value at epoch t=83 is 0.4821829193643228\n",
      "Objective value at epoch t=84 is 0.48218164203035707\n",
      "Objective value at epoch t=85 is 0.48218049674271557\n",
      "Objective value at epoch t=86 is 0.48217946222452956\n",
      "Objective value at epoch t=87 is 0.4821785339061244\n",
      "Objective value at epoch t=88 is 0.4821776959076107\n",
      "Objective value at epoch t=89 is 0.4821769413460687\n",
      "Objective value at epoch t=90 is 0.48217626446749395\n",
      "Objective value at epoch t=91 is 0.4821756534233459\n",
      "Objective value at epoch t=92 is 0.4821751040571094\n",
      "Objective value at epoch t=93 is 0.48217460968565395\n",
      "Objective value at epoch t=94 is 0.48217416416478615\n",
      "Objective value at epoch t=95 is 0.4821737639937683\n",
      "Objective value at epoch t=96 is 0.4821734034549824\n",
      "Objective value at epoch t=97 is 0.4821730790766905\n",
      "Objective value at epoch t=98 is 0.482172786897795\n",
      "Objective value at epoch t=99 is 0.4821725242920583\n"
     ]
    }
   ],
   "source": [
    "lam = 1E-6\n",
    "stepsize = 0.1\n",
    "w, objvals_sgd1 = sgd(x_train, y_train, lam, stepsize)"
   ]
  },
  {
   "cell_type": "markdown",
   "metadata": {},
   "source": [
    "# 4. Compare GD with SGD\n",
    "\n",
    "Plot objective function values against epochs."
   ]
  },
  {
   "cell_type": "code",
   "execution_count": 13,
   "metadata": {},
   "outputs": [
    {
     "data": {
      "image/png": "[encoded data removed]",
      "text/plain": [
       "<Figure size 432x288 with 1 Axes>"
      ]
     },
     "metadata": {
      "needs_background": "light"
     },
     "output_type": "display_data"
    }
   ],
   "source": [
    "import matplotlib.pyplot as plt\n",
    "%matplotlib inline\n",
    "\n",
    "fig = plt.figure(figsize=(6, 4))\n",
    "\n",
    "epochs_gd = range(len(objvals_gd1))\n",
    "epochs_sgd = range(len(objvals_sgd1))\n",
    "\n",
    "line0, = plt.plot(epochs_gd, objvals_gd1, '--b', LineWidth=4)\n",
    "line1, = plt.plot(epochs_sgd, objvals_sgd1, '-r', LineWidth=2)\n",
    "plt.xlabel('Epochs', FontSize=20)\n",
    "plt.ylabel('Objective Value', FontSize=20)\n",
    "plt.xticks(FontSize=16)\n",
    "plt.yticks(FontSize=16)\n",
    "plt.legend([line0, line1], ['GD', 'SGD'], fontsize=20)\n",
    "plt.tight_layout()\n",
    "plt.show()\n",
    "fig.savefig('compare_gd_sgd.pdf', format='pdf', dpi=1200)"
   ]
  },
  {
   "cell_type": "markdown",
   "metadata": {},
   "source": [
    "# 5. Prediction"
   ]
  },
  {
   "cell_type": "code",
   "execution_count": 14,
   "metadata": {},
   "outputs": [],
   "source": [
    "# Predict class label\n",
    "# Inputs:\n",
    "#     w: d-by-1 matrix\n",
    "#     X: m-by-d matrix\n",
    "# Return:\n",
    "#     f: m-by-1 matrix, the predictions\n",
    "def predict(w, X):\n",
    "    xw = numpy.dot(X, w)\n",
    "    f = numpy.sign(xw)\n",
    "    return f"
   ]
  },
  {
   "cell_type": "code",
   "execution_count": 15,
   "metadata": {},
   "outputs": [
    {
     "name": "stdout",
     "output_type": "stream",
     "text": [
      "Training classification error is 0.221875\n"
     ]
    }
   ],
   "source": [
    "# evaluate training error\n",
    "f_train = predict(w, x_train)\n",
    "diff = numpy.abs(f_train - y_train) / 2\n",
    "error_train = numpy.mean(diff)\n",
    "print('Training classification error is ' + str(error_train))"
   ]
  },
  {
   "cell_type": "code",
   "execution_count": 16,
   "metadata": {},
   "outputs": [
    {
     "name": "stdout",
     "output_type": "stream",
     "text": [
      "Test classification error is 0.203125\n"
     ]
    }
   ],
   "source": [
    "# evaluate test error\n",
    "f_test = predict(w, x_test)\n",
    "diff = numpy.abs(f_test - y_test) / 2\n",
    "error_test = numpy.mean(diff)\n",
    "print('Test classification error is ' + str(error_test))"
   ]
  },
  {
   "cell_type": "code",
   "execution_count": 17,
   "metadata": {},
   "outputs": [],
   "source": [
    "class Worker :\n",
    "    def __init__ (self, x, y):\n",
    "        self.x = x # n-by-d \n",
    "        self.y = y # n by 1\n",
    "        n = x.shape[0] # no. of samples\n",
    "        d = x.shape[1] # no. of features\n",
    "        w = numpy.zeros((d,1))\n",
    "        \n",
    "    def set_param(w):\n",
    "        w = w\n",
    "        \n",
    "    def loss():\n",
    "        yx = numpy.multiply(y, x) # n-by-d matrix\n",
    "        yxw = numpy.dot(yx, w) # n-by-1 matrix\n",
    "        vec1 = numpy.exp(-yxw) # n-by-1 matrix\n",
    "        vec2 = numpy.log(1 + vec1) # n-by-1 matrix\n",
    "        return numpy.sum(vec2)\n",
    "    \n",
    "    def gradient():\n",
    "        yx = numpy.multiply(y, x) # n-by-d matrix\n",
    "        yxw = numpy.dot(yx, self.w) # n-by-1 matrix\n",
    "        vec1 = numpy.exp(yxw) # n-by-1 matrix\n",
    "        vec2 = numpy.divide(yx, 1+vec1) # n-by-d matrix\n",
    "        g = -numpy.sum(vec2, axis=0).reshape(self.d, 1) # d-by-1 matrix\n",
    "       #g = vec3 + lam * w\n",
    "        return g \n",
    "    \n",
    "    def st_gradient():\n",
    "        yx = numpy.multiply(y, x) # n-by-d matrix\n",
    "        yxw = numpy.dot(yx, self.w) # n-by-1 matrix\n",
    "        vec1 = numpy.exp(yxw)\n",
    "        sg = -yx.T / (1 + vec1)\n",
    "        return sg"
   ]
  },
  {
   "cell_type": "code",
   "execution_count": 18,
   "metadata": {},
   "outputs": [],
   "source": [
    "class Server:\n",
    "    def __init__(self, m, n, d):\n",
    "        self.m = m # no. of worker nodes\n",
    "        self.n = n # no. of training samples\n",
    "        self.d = d # no. of feautres\n",
    "        w = numpy.zeros((d,1))\n",
    "        g = numpy.zeros((d,1))\n",
    "        v = numpy.zeros((d,1))\n",
    "        loss = 0 # loss function value\n",
    "        obj = 0 # objective function value\n",
    "        \n",
    "    def broadcast(w):\n",
    "        return w\n",
    "    \n",
    "    # sum loss func and gradients evaluated by workers\n",
    "    #args\n",
    "    # grads : a list of d-by-1 vectors\n",
    "    # loss  : a list of scalars\n",
    "    \n",
    "    def aggregate(grads, losses):\n",
    "        g = numpy.zeros((d, 1))\n",
    "        loss = 0\n",
    "        for k in range(m):\n",
    "            g += grads[k]\n",
    "            loss += losses[k]\n",
    "            \n",
    "    # compute the gradient (from the loss and regularization)\n",
    "    def gradient(lam):\n",
    "        g = g / n + lam * w\n",
    "        \n",
    "    # compute the objective function(sum of loss and regularization)\n",
    "    def objective (lam):\n",
    "        reg = lam / 2 * numpy.sum(w * w)\n",
    "        obj = loss / n + reg\n",
    "        return obj\n",
    "    \n",
    "    def st_gradient(lam):\n",
    "        sg = sg  + lam * w\n",
    "    \n",
    "    # update the model parameters using Accelerated GD\n",
    "    # args\n",
    "    # alpha : learning rate( step size)\n",
    "    # beta : momentum parameter\n",
    "    def agd (alpha, beta):\n",
    "        v *= beta\n",
    "        v += g\n",
    "        sw -= alpha * v\n",
    "        \n",
    "        "
   ]
  },
  {
   "cell_type": "code",
   "execution_count": 19,
   "metadata": {},
   "outputs": [],
   "source": [
    "import math\n",
    "\n",
    "# create a server and m worker nodes:\n",
    "\n",
    "def create_server_workers (m, x, y):\n",
    "    n, d = x.shape\n",
    "    n = math.floor(n / m)\n",
    "    print(m,n,d)\n",
    "    server = Server(m, n, d)\n",
    "    workers = []\n",
    "    \n",
    "    for i in range(m):\n",
    "        indices = list(range(i * n, (i+1)*n))\n",
    "        worker = Worker(x[indices, :], y[indices,:])\n",
    "        workers.append(worker)\n",
    "        \n",
    "    return server, workers\n",
    "        "
   ]
  },
  {
   "cell_type": "code",
   "execution_count": 20,
   "metadata": {},
   "outputs": [
    {
     "name": "stdout",
     "output_type": "stream",
     "text": [
      "4 160 9\n"
     ]
    }
   ],
   "source": [
    "m = 4\n",
    "server, workers = create_server_workers(m, x_train, y_train)"
   ]
  },
  {
   "cell_type": "code",
   "execution_count": null,
   "metadata": {
    "scrolled": true
   },
   "outputs": [],
   "source": [
    "lam = 1E-6 #regularization parameter\n",
    "alpha = 1E-1 #learning rate\n",
    "beta = 0.9\n",
    "max_epoch = 100\n",
    "\n",
    "for t in range(max_epoch):\n",
    "    # step 1: broadcast\n",
    "    w = server.broadcast()\n",
    "#     w = numpy.zeros((d,1))\n",
    "    print(w)\n",
    "    for i in range(m):\n",
    "#         workers[i].set_param(server.broadcast())\n",
    "        workers[i].set_param(w)\n",
    "        \n",
    "        \n",
    "    # step 2: workers local computations\n",
    "    grads =[]\n",
    "    losses =[]\n",
    "    for i in range(m):\n",
    "        g = workers[i].gradient()\n",
    "        grads.append(g)\n",
    "        l = workers[i].loss()\n",
    "        losses.append(l)\n",
    "        \n",
    "    # step 3: aggregate the workers outputs\n",
    "    server.aggregate(grads, losses)\n",
    "    \n",
    "    # step 4: server update the model paramters\n",
    "    server.gradient(lam)\n",
    "    obj = server.objective(lam)\n",
    "    print('Objective function value for t ='+str(t) + ' is ' + str(obj))\n",
    "    server.agd(alpha, beta)"
   ]
  },
  {
   "cell_type": "code",
   "execution_count": null,
   "metadata": {},
   "outputs": [],
   "source": []
  },
  {
   "cell_type": "markdown",
   "metadata": {},
   "source": [
    "# 7. Plot and compare GD, SGD"
   ]
  },
  {
   "cell_type": "markdown",
   "metadata": {},
   "source": [
    "You are required to compare the following algorithms:\n",
    "\n",
    "- Gradient descent (GD)\n",
    "\n",
    "- SGD\n",
    "\n",
    " - GD with q=1, GD with q=8, SGD with q=1, SGD with q=8\n",
    "\n",
    "Follow the code in Section 4 to plot ```objective function value``` against ```epochs```. There should be four curves in the plot; each curve corresponds to one algorithm."
   ]
  },
  {
   "cell_type": "markdown",
   "metadata": {},
   "source": [
    "Hint: Logistic regression with $\\ell_2$-norm regularization is a strongly convex optimization problem. All the algorithms will converge to the same solution. **In the end, the ``objective function value`` of the 4 algorithms will be the same. If not the same, your implementation must be wrong. Do NOT submit wrong code and wrong result!**"
   ]
  },
  {
   "cell_type": "code",
   "execution_count": null,
   "metadata": {},
   "outputs": [],
   "source": [
    "# plot the 4 curves:\n",
    "\n",
    "import matplotlib.pyplot as plt\n",
    "%matplotlib inline\n",
    "\n",
    "fig = plt.figure(figsize=(15, 10))\n",
    "\n",
    "epochs_gd = range(len(objvals_gd1))\n",
    "epochs_sgd = range(len(objvals_sgd1))\n",
    "epochs_gd = range(len(objvals_gd8))\n",
    "epochs_sgd = range(len(objvals_sgd8))\n",
    "\n",
    "line0, = plt.plot(epochs_gd, objvals_gd1, '--b', LineWidth=3)\n",
    "line1, = plt.plot(epochs_sgd, objvals_sgd1, '-r', LineWidth=4)\n",
    "line2, = plt.plot(epochs_mbsgd8, objvals_gd8, 'g', LineWidth=2)\n",
    "line3, = plt.plot(epochs_mbsgd64, objvals_sgd8, '--y', LineWidth=3)\n",
    "plt.xlabel('Epochs', FontSize=20)\n",
    "plt.ylabel('Objective Value', FontSize=20)\n",
    "plt.xticks(FontSize=16)\n",
    "plt.yticks(FontSize=16)\n",
    "plt.legend([line0, line1, line2, line3], ['GD1', 'SGD1', 'GD8', 'SGD8'], fontsize=20)\n",
    "plt.tight_layout()\n",
    "plt.show()\n",
    "fig.savefig('compare_gd_sgd_mbsgd8_mbsgd64.pdf', format='pdf', dpi=1200)"
   ]
  },
  {
   "cell_type": "markdown",
   "metadata": {},
   "source": []
  },
  {
   "cell_type": "code",
   "execution_count": null,
   "metadata": {},
   "outputs": [],
   "source": []
  }
 ],
 "metadata": {
  "kernelspec": {
   "display_name": "Python 3",
   "language": "python",
   "name": "python3"
  },
  "language_info": {
   "codemirror_mode": {
    "name": "ipython",
    "version": 3
   },
   "file_extension": ".py",
   "mimetype": "text/x-python",
   "name": "python",
   "nbconvert_exporter": "python",
   "pygments_lexer": "ipython3",
   "version": "3.7.4"
  }
 },
 "nbformat": 4,
 "nbformat_minor": 2
}
